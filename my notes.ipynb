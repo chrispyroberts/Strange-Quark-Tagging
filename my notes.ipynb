{
 "cells": [
  {
   "cell_type": "code",
   "execution_count": 1,
   "metadata": {},
   "outputs": [],
   "source": [
    "import uproot\n",
    "import numpy as np\n",
    "import matplotlib.pyplot as plt\n",
    "import pandas as pd "
   ]
  },
  {
   "cell_type": "code",
   "execution_count": 2,
   "metadata": {},
   "outputs": [],
   "source": [
    "# Open the ROOT file\n",
    "file = uproot.open(\"events.root\")\n",
    "tree = file[\"Delphes;1\"]"
   ]
  },
  {
   "cell_type": "code",
   "execution_count": 3,
   "metadata": {},
   "outputs": [],
   "source": [
    "# Define the dictionary based on the table in the image\n",
    "particles_map = {\n",
    "    1: \"d\",\n",
    "    2: \"u\",\n",
    "    3: \"s\",\n",
    "    4: \"c\",\n",
    "    5: \"b\",\n",
    "    6: \"t\",\n",
    "    7: \"b'\",\n",
    "    8: \"t'\",\n",
    "    11: \"e−\",\n",
    "    12: \"νₑ\",\n",
    "    13: \"μ−\",\n",
    "    14: \"ν_μ\",\n",
    "    15: \"τ−\",\n",
    "    16: \"ν_τ\",\n",
    "    17: \"τ′−\",\n",
    "    18: \"ν_τ′\",\n",
    "    21: \"g\",\n",
    "    22: \"γ\",\n",
    "    23: \"Z⁰\",\n",
    "    24: \"W⁺\",\n",
    "    25: \"h⁰/H⁰₁\",\n",
    "    32: \"Z′/Z⁰₂\",\n",
    "    33: \"Z″/Z⁰₃\",\n",
    "    34: \"W′/W⁺₂\",\n",
    "    35: \"H⁰/H⁰₂\",\n",
    "    36: \"A⁰/H⁰₃\",\n",
    "    37: \"H⁺\",\n",
    "    1103: \"(dd)₁\",\n",
    "    2101: \"(ud)₀\",\n",
    "    2103: \"(ud)₁\",\n",
    "    2203: \"(uu)₁\",\n",
    "    3101: \"(sd)₀\",\n",
    "    3103: \"(sd)₁\",\n",
    "    3201: \"(su)₀\",\n",
    "    3203: \"(su)₁\",\n",
    "    3303: \"(ss)₁\",\n",
    "    4101: \"(cd)₀\",\n",
    "    4103: \"(cd)₁\",\n",
    "    4201: \"(cu)₀\",\n",
    "    4203: \"(cu)₁\",\n",
    "    4301: \"(cs)₀\",\n",
    "    4303: \"(cs)₁\",\n",
    "    4403: \"(cc)₁\",\n",
    "    5101: \"(bd)₀\",\n",
    "    5103: \"(bd)₁\",\n",
    "    5201: \"(bu)₀\",\n",
    "    5203: \"(bu)₁\",\n",
    "    5301: \"(bs)₀\",\n",
    "    5303: \"(bs)₁\",\n",
    "    5401: \"(bc)₀\",\n",
    "    5403: \"(bc)₁\",\n",
    "    5503: \"(bb)₁\",\n",
    "    3000111: \"π⁰_tech\",\n",
    "    3000211: \"π⁺_tech\",\n",
    "    3000221: \"π′⁰_tech\",\n",
    "    3100221: \"η₀_tech\",\n",
    "    3000113: \"ρ⁰_tech\",\n",
    "    3000213: \"ρ⁺_tech\",\n",
    "    3000223: \"ω⁰_tech\",\n",
    "    3100021: \"V₈\",\n",
    "    3060111: \"π¹_tech,22\",\n",
    "    3160111: \"π⁸_tech,22\",\n",
    "    3130113: \"ρ_tech,11\",\n",
    "    3140113: \"ρ_tech,12\",\n",
    "    3150113: \"ρ_tech,21\",\n",
    "    3160113: \"ρ_tech,22\",\n",
    "    4000001: \"d*\",\n",
    "    4000002: \"u*\",\n",
    "    4000011: \"e*\",\n",
    "    4000012: \"ν*ₑ\",\n",
    "    1000993: \"R0gg\",\n",
    "    1009113: \"R00\",\n",
    "    1009213: \"R+_udd\",\n",
    "    1009223: \"R0g_uud\",\n",
    "    1009313: \"R0g_us\",\n",
    "    1009323: \"R+_gus\",\n",
    "    1009333: \"R0g_ss\",\n",
    "    1091114: \"R0dddd\",\n",
    "    1092114: \"R0d_ddd\",\n",
    "    1092214: \"R+_uudd\",\n",
    "    1092224: \"R+++_uuu\",\n",
    "    1093114: \"R0g_sdd\",\n",
    "    1093214: \"R0g_sud\",\n",
    "    1093224: \"R+_gsuu\",\n",
    "    1093314: \"R0g_ssd\",\n",
    "    1093324: \"R-_gssu\",\n",
    "    1093334: \"R0g_sss\",\n",
    "    1000622: \"R+_t1_d\",\n",
    "    1000632: \"R+_t1_u\",\n",
    "    1000642: \"R0_t1_s\",\n",
    "    1000652: \"R+_t1_b\",\n",
    "    1006113: \"R0_t1_dd1\",\n",
    "    1006211: \"R+_t1_udo\",\n",
    "    1006213: \"R+t1_udu1\",\n",
    "    1006223: \"R+_t1_uuu\",\n",
    "    1006311: \"R0_t1_sd0\",\n",
    "    1006313: \"R0_t1_sd1\",\n",
    "    1006321: \"R+_t1_su0\",\n",
    "    1006323: \"R+t1_su1\",\n",
    "    1006333: \"R0_t1_ss1\",\n",
    "    1000001: \"d~L\",\n",
    "    1000002: \"u~L\",\n",
    "    1000003: \"s~L\",\n",
    "    1000004: \"c~L\",\n",
    "    1000005: \"b~1\",\n",
    "    1000006: \"t~1\",\n",
    "    1000011: \"e~L\",\n",
    "    1000012: \"ve~L\",\n",
    "    1000013: \"u~L\",\n",
    "    1000014: \"v~mL\",\n",
    "    1000015: \"T~1\",\n",
    "    1000016: \"v~T L\",\n",
    "    2000001: \"d~R\",\n",
    "    2000002: \"u~R\",\n",
    "    2000003: \"s~R\",\n",
    "    2000004: \"c~R\",\n",
    "    2000005: \"b2\",\n",
    "    2000006: \"t2\",\n",
    "    2000011: \"e~R\",\n",
    "    2000013: \"u~R\",\n",
    "    2000015: \"T2\",\n",
    "    1000021: \"g~\",\n",
    "    1000022: \"x~0 1\",\n",
    "    1000023: \"x~0 2\",\n",
    "    1000024: \"x~1\",\n",
    "    1000025: \"x~0 3\",\n",
    "    1000035: \"x~0 4\",\n",
    "    1000037: \"x~2\",\n",
    "    1000039: \"G\",\n",
    "    39: \"G (graviton)\",\n",
    "    41: \"R0\",\n",
    "    42: \"LQe\",\n",
    "    110: \"reggeon\",\n",
    "    990: \"pomeron\",\n",
    "    9990: \"odderon\",\n",
    "    111: \"π0\",\n",
    "    211: \"π+\",\n",
    "    9000111: \"a0(980)0\",\n",
    "    9000211: \"a0(980)+\",\n",
    "    100111: \"π(1300)0\",\n",
    "    100211: \"π(1300)+\",\n",
    "    10111: \"a0(1450)0\",\n",
    "    10211: \"a0(1450)+\",\n",
    "    9010111: \"π(1800)0\",\n",
    "    9010211: \"π(1800)+\",\n",
    "    113: \"ρ(770)0\",\n",
    "    213: \"ρ(770)+\",\n",
    "    10113: \"b1(1235)0\",\n",
    "    10213: \"b1(1235)+\",\n",
    "    20113: \"a1(1260)0\",\n",
    "    20213: \"a1(1260)+\",\n",
    "    9000113: \"π1(1400)0\",\n",
    "    9000213: \"π1(1400)+\",\n",
    "    100113: \"ρ(1450)0\",\n",
    "    100213: \"ρ(1450)+\",\n",
    "    9010113: \"π1(1600)0\",\n",
    "    9010213: \"π1(1600)+\",\n",
    "    9020113: \"a1(1640)0\",\n",
    "    9020213: \"a1(1640)+\",\n",
    "    30113: \"ρ(1700)0\",\n",
    "    30213: \"ρ(1700)+\",\n",
    "    9030113: \"ρ(1900)0\",\n",
    "    9030213: \"ρ(1900)+\",\n",
    "    9040113: \"ρ(2150)0\",\n",
    "    9040213: \"ρ(2150)+\",\n",
    "    115: \"a2(1320)0\",\n",
    "    215: \"a2(1320)+\",\n",
    "    10115: \"π2(1670)0\",\n",
    "    10215: \"π2(1670)+\",\n",
    "    9000115: \"a2(1700)0\",\n",
    "    9000215: \"a2(1700)+\",\n",
    "    9010115: \"π2(2100)0\",\n",
    "    9010215: \"π2(2100)+\",\n",
    "    117: \"ρ3(1690)0\",\n",
    "    217: \"ρ3(1690)+\",\n",
    "    9000117: \"ρ3(1990)0\",\n",
    "    9000217: \"ρ3(1990)+\",\n",
    "    9010117: \"ρ3(2250)0\",\n",
    "    9010217: \"ρ3(2250)+\",\n",
    "    119: \"a4(2040)0\",\n",
    "    219: \"a4(2040)+\",\n",
    "    221: \"η\",\n",
    "    331: \"η'(958)\",\n",
    "    9000221: \"f0(600)\",\n",
    "    9010221: \"f0(980)\",\n",
    "    100221: \"η(1295)\",\n",
    "    10221: \"f0(1370)\",\n",
    "    9020221: \"η(1405)\",\n",
    "    100331: \"η(1475)\",\n",
    "    9030221: \"f0(1500)\",\n",
    "    10331: \"f0(1710)\",\n",
    "    9040221: \"η(1760)\",\n",
    "    9050221: \"f0(2020)\",\n",
    "    9060221: \"f0(2100)\",\n",
    "    9070221: \"f0(2200)\",\n",
    "    9080221: \"η(2225)\",\n",
    "    223: \"ω(782)\",\n",
    "    333: \"φ(1020)\",\n",
    "    10223: \"h1(1170)\",\n",
    "    20223: \"f1(1285)\",\n",
    "    10333: \"h1(1380)\",\n",
    "    20333: \"f1(1420)\",\n",
    "    100223: \"ω(1420)\",\n",
    "    9000223: \"f1(1510)\",\n",
    "    9010223: \"h1(1595)\",\n",
    "    30223: \"ω(1650)\",\n",
    "    100333: \"φ(1680)\",\n",
    "    225: \"f2(1270)\",\n",
    "    9000225: \"f2(1430)\",\n",
    "    335: \"f2'(1525)\",\n",
    "    9010225: \"f2(1565)\",\n",
    "    9020225: \"f2(1640)\",\n",
    "    10225: \"η2(1645)\",\n",
    "    9030225: \"f2(1810)\",\n",
    "    10335: \"η2(1870)\",\n",
    "    9040225: \"f2(1910)\",\n",
    "    9050225: \"f2(1950)\",\n",
    "    9060225: \"f2(2010)\",\n",
    "    9070225: \"f2(2150)\",\n",
    "    9080225: \"f2(2300)\",\n",
    "    9090225: \"f2(2340)\",\n",
    "    227: \"ω3(1670)\",\n",
    "    337: \"φ3(1850)\",\n",
    "    229: \"f4(2050)\",\n",
    "    9000229: \"f4(2220)\",\n",
    "    9010229: \"f4(2300)\",\n",
    "    130: \"K0L\",\n",
    "    310: \"K0S\",\n",
    "    311: \"K0\",\n",
    "    321: \"K+\",\n",
    "    9000311: \"K*(800)0\",\n",
    "    9000321: \"K*(800)+\",\n",
    "    10311: \"K0(1430)0\",\n",
    "    10321: \"K0(1430)+\",\n",
    "    100311: \"K0(1460)0\",\n",
    "    100321: \"K0(1460)+\",\n",
    "    9010311: \"K(1830)0\",\n",
    "    9010321: \"K(1830)+\",\n",
    "    9020311: \"K(1950)0\",\n",
    "    9020321: \"K(1950)+\",\n",
    "    313: \"K*(892)0\",\n",
    "    323: \"K*(892)+\",\n",
    "    10313: \"K1(1270)0\",\n",
    "    10323: \"K1(1270)+\",\n",
    "    20313: \"K1(1400)0\",\n",
    "    20323: \"K1(1400)+\",\n",
    "    100313: \"K*(1410)0\",\n",
    "    100323: \"K*(1410)+\",\n",
    "    9000313: \"K1(1650)0\",\n",
    "    9000323: \"K1(1650)+\",\n",
    "    30313: \"K*(1680)0\",\n",
    "    30323: \"K*(1680)+\",\n",
    "    315: \"K2*(1430)0\",\n",
    "    325: \"K2*(1430)+\",\n",
    "    9000315: \"K2(1580)0\",\n",
    "    9000325: \"K2(1580)+\",\n",
    "    10315: \"K2(1770)0\",\n",
    "    10325: \"K2(1770)+\",\n",
    "    20315: \"K2(1820)0\",\n",
    "    20325: \"K2(1820)+\",\n",
    "    9010315: \"K2*(1980)0\",\n",
    "    9010325: \"K2*(1980)+\",\n",
    "    9020315: \"K2(2250)0\",\n",
    "    9020325: \"K2(2250)+\",\n",
    "    317: \"K3*(1780)0\",\n",
    "    327: \"K3*(1780)+\",\n",
    "    9010317: \"K3(2320)0\",\n",
    "    9010327: \"K3(2320)+\",\n",
    "    319: \"K4*(2045)0\",\n",
    "    329: \"K4*(2045)+\",\n",
    "    9000319: \"K4(2500)0\",\n",
    "    9000329: \"K4(2500)+\",\n",
    "    411: \"D+\",\n",
    "    421: \"D0\",\n",
    "    10411: \"D*(2400)+\",\n",
    "    10421: \"D*(2400)0\",\n",
    "    413: \"D*(2010)+\",\n",
    "    423: \"D*(2007)0\",\n",
    "    10413: \"D1(2420)+\",\n",
    "    10423: \"D1(2420)0\",\n",
    "    20413: \"D1(H)+\",\n",
    "    20423: \"D1(2430)0\",\n",
    "    415: \"D2*(2460)+\",\n",
    "    425: \"D2*(2460)0\",\n",
    "    431: \"Ds+\",\n",
    "    10431: \"Ds0*(2317)+\",\n",
    "    433: \"Ds*+\",\n",
    "    10433: \"Ds1(2536)+\",\n",
    "    20433: \"Ds1(2460)+\",\n",
    "    435: \"Ds2*(2573)+\",\n",
    "    511: \"B0\",\n",
    "    521: \"B+\",\n",
    "    10511: \"B*0\",\n",
    "    10521: \"B*+\",\n",
    "    513: \"B*0\",\n",
    "    523: \"B*+\",\n",
    "    10513: \"B1(L)0\",\n",
    "    10523: \"B1(L)+\",\n",
    "    20513: \"B1(H)0\",\n",
    "    20523: \"B1(H)+\",\n",
    "    515: \"B2*0\",\n",
    "    525: \"B2*+\",\n",
    "    531: \"Bs0\",\n",
    "    10531: \"Bs*0\",\n",
    "    533: \"Bs*\",\n",
    "    10533: \"Bs1(L)0\",\n",
    "    20533: \"Bs1(H)0\",\n",
    "    535: \"B*s0\",\n",
    "    541: \"Bc+\",\n",
    "    10541: \"B*c0\",\n",
    "    543: \"B*c+\",\n",
    "    10543: \"Bc1(L)+\",\n",
    "    20543: \"Bc1(H)+\",\n",
    "    545: \"B*c2+\",\n",
    "\n",
    "    # cc Mesons\n",
    "    441: \"ηc(1S)\",\n",
    "    10441: \"χc0(1P)\",\n",
    "    100441: \"ηc(2S)\",\n",
    "    443: \"J/ψ(1S)\",\n",
    "    10443: \"hc(1P)\",\n",
    "    20443: \"χc1(1P)\",\n",
    "    100443: \"ψ(2S)\",\n",
    "    30443: \"ψ(3770)\",\n",
    "    9000443: \"ψ(4040)\",\n",
    "    9010443: \"ψ(4160)\",\n",
    "    9020443: \"ψ(4415)\",\n",
    "    445: \"χc2(1P)\",\n",
    "    100445: \"χc2(2P)\",\n",
    "\n",
    "    # bb Mesons\n",
    "    551: \"ηb(1S)\",\n",
    "    10551: \"χb0(1P)\",\n",
    "    100551: \"ηb(2S)\",\n",
    "    110551: \"χb0(2P)\",\n",
    "    200551: \"ηb(3S)\",\n",
    "    210551: \"χb0(3P)\",\n",
    "    553: \"ϒ(1S)\",\n",
    "    10553: \"hb(1P)\",\n",
    "    20553: \"χb1(1P)\",\n",
    "    30553: \"ϒ(1D)\",\n",
    "    100553: \"ϒ(2S)\",\n",
    "    110553: \"hb(2P)\",\n",
    "    120553: \"χb1(2P)\",\n",
    "    200553: \"ϒ(2D)\",\n",
    "    220553: \"χb1(3P)\",\n",
    "    300553: \"ϒ(3S)\",\n",
    "    9000553: \"ϒ(10860)\",\n",
    "    9010553: \"ϒ(11020)\",\n",
    "    555: \"χb2(1P)\",\n",
    "    10555: \"ηb2(1D)\",\n",
    "    20555: \"ϒ2(1D)\",\n",
    "    30555: \"χb2(2P)\",\n",
    "    100557: \"ϒ3(1D)\",\n",
    "    100557: \"ϒ3(2D)\",\n",
    "\n",
    "    # Light Baryons\n",
    "    2212: \"p\",\n",
    "    2112: \"n\",\n",
    "    2224: \"Δ++\",\n",
    "    2214: \"Δ+\",\n",
    "    2114: \"Δ0\",\n",
    "    1114: \"Δ−\",\n",
    "\n",
    "    # Strange Baryons\n",
    "    3122: \"Λ\",\n",
    "    3222: \"Σ+\",\n",
    "    3212: \"Σ0\",\n",
    "    3112: \"Σ−\",\n",
    "    3224: \"Σ*+\",\n",
    "    3214: \"Σ*0\",\n",
    "    3114: \"Σ*−\",\n",
    "    3322: \"Ξ0\",\n",
    "    3312: \"Ξ−\",\n",
    "    3324: \"Ξ*0\",\n",
    "    3314: \"Ξ*−\",\n",
    "    3334: \"Ω−\",\n",
    "\n",
    "    # Charmed Baryons\n",
    "    4122: \"Λ+c\",\n",
    "    4222: \"Σc++\",\n",
    "    4212: \"Σc+\",\n",
    "    4112: \"Σc0\",\n",
    "    4224: \"Σ*++c\",\n",
    "    4214: \"Σ*+c\",\n",
    "    4114: \"Σ*0c\",\n",
    "    4232: \"Ξ+c\",\n",
    "    4322: \"Ξ'c+\",\n",
    "    4312: \"Ξ'c0\",\n",
    "    4324: \"Ξ*c+\",\n",
    "    4314: \"Ξ*c0\",\n",
    "    4132: \"Ξ^0_c\",\n",
    "    4332: \"Ω0c\",\n",
    "    4334: \"Ω*c0\",\n",
    "    4412: \"Ξ+cc\",\n",
    "    4422: \"Ξ++cc\",\n",
    "    4414: \"Ξ*+cc\",\n",
    "    4424: \"Ξ*++cc\",\n",
    "    4432: \"Ω+cc\",\n",
    "    4434: \"Ω*+cc\",\n",
    "    4444: \"Ω+++ccc\",\n",
    "\n",
    "    # Bottom Baryons\n",
    "    5122: \"Λ0b\",\n",
    "    5112: \"Σ−b\",\n",
    "    5212: \"Σ0b\",\n",
    "    5222: \"Σ+b\",\n",
    "    5114: \"Σ*−b\",\n",
    "    5214: \"Σ*0b\",\n",
    "    5224: \"Σ*+b\",\n",
    "    5132: \"Ξ−b\",\n",
    "    5232: \"Ξ0b\",\n",
    "    5312: \"Ξ'−b\",\n",
    "    5322: \"Ξ'0b\",\n",
    "    5314: \"Ξ*−b\",\n",
    "    5324: \"Ξ*0b\",\n",
    "    5332: \"Ω−b\",\n",
    "    5334: \"Ω*b−\",\n",
    "    5142: \"Ξ0bc\",\n",
    "    5242: \"Ξ+bc\",\n",
    "    5412: \"Ξ'0bc\",\n",
    "    5422: \"Ξ'+bc\",\n",
    "    5414: \"Ξ*0bc\",\n",
    "    5424: \"Ξ*+bc\",\n",
    "    5342: \"Ω0bc\",\n",
    "    5432: \"Ω+bc\",\n",
    "    5344: \"Ω*0bc\",\n",
    "    5444: \"Ω*+bcc\",\n",
    "    5512: \"Ξ0bb\",\n",
    "    5522: \"Ξ−bb\",\n",
    "    5514: \"Ξ*0bb\",\n",
    "    5524: \"Ξ*−bb\",\n",
    "    5532: \"Ω−bb\",\n",
    "    5534: \"Ω*−bb\",\n",
    "    5542: \"Ω−bbc\",\n",
    "    5544: \"Ω−bbb\",\n",
    "\n",
    "    # Pentaquarks\n",
    "    9221132: \"Θ+\",\n",
    "    9331122: \"Φ−−\"\n",
    "\n",
    "}"
   ]
  },
  {
   "cell_type": "code",
   "execution_count": 4,
   "metadata": {},
   "outputs": [],
   "source": [
    "# Define a function to look up particles\n",
    "def get_particle(particle_id, one_indexed=False):\n",
    "    if one_indexed:\n",
    "        particle_id = particle_id - 1\n",
    "    \n",
    "    if particle_id < 0:\n",
    "        return \"anti-\" + particles_map.get(-particle_id, \"Unknown particle\")\n",
    "    return particles_map.get(particle_id, \"Unknown particle\")"
   ]
  },
  {
   "cell_type": "code",
   "execution_count": 5,
   "metadata": {},
   "outputs": [],
   "source": [
    "particles = tree['Particle']\n",
    "jets = tree['Jet']"
   ]
  },
  {
   "cell_type": "code",
   "execution_count": 6,
   "metadata": {},
   "outputs": [],
   "source": [
    "PIDs = particles['Particle.PID'].array(library='np')\n",
    "statuses = particles['Particle.Status'].array(library='np')\n",
    "isPU = particles['Particle.IsPU'].array(library='np')"
   ]
  },
  {
   "cell_type": "markdown",
   "metadata": {},
   "source": [
    "# checking unknown particles"
   ]
  },
  {
   "cell_type": "code",
   "execution_count": 8,
   "metadata": {},
   "outputs": [],
   "source": [
    "unknown_particles = []\n",
    "\n",
    "for event in range(0, 50000):\n",
    "    for index, PID in enumerate(PIDs[event]):\n",
    "        if get_particle(PID) == 'Unknown particle':\n",
    "            unknown_particles.append(tuple([event, index, statuses[event][index], isPU[event][index], PID]))"
   ]
  },
  {
   "cell_type": "code",
   "execution_count": 9,
   "metadata": {},
   "outputs": [
    {
     "data": {
      "text/plain": [
       "50000"
      ]
     },
     "execution_count": 9,
     "metadata": {},
     "output_type": "execute_result"
    }
   ],
   "source": [
    "count = 0\n",
    "for event, index, status, pileup, PID in unknown_particles:\n",
    "    if index == 0 and status == 11 and pileup == 0 and PID == 90:\n",
    "        count += 1\n",
    "\n",
    "count"
   ]
  },
  {
   "attachments": {
    "image.png": {
     "image/png": "[encoded data removed]"
    }
   },
   "cell_type": "markdown",
   "metadata": {},
   "source": [
    "- For each event, the first particle (index 0) is status 11, not pileup, and PID of 90\n",
    "\n",
    "![image.png](attachment:image.png)\n"
   ]
  },
  {
   "cell_type": "code",
   "execution_count": 10,
   "metadata": {},
   "outputs": [
    {
     "data": {
      "text/plain": [
       "371"
      ]
     },
     "execution_count": 10,
     "metadata": {},
     "output_type": "execute_result"
    }
   ],
   "source": [
    "weird_particles = []\n",
    "\n",
    "count = 0\n",
    "for event, index, status, pileup, PID in unknown_particles:\n",
    "    if not(index == 0 and status == 11 and pileup == 0):\n",
    "        weird_particles.append((event, index, status, pileup, PID))\n",
    "        count += 1\n",
    "    \n",
    "count "
   ]
  },
  {
   "cell_type": "markdown",
   "metadata": {},
   "source": [
    "- list of weird particles that have no PID"
   ]
  },
  {
   "cell_type": "code",
   "execution_count": 12,
   "metadata": {},
   "outputs": [
    {
     "data": {
      "text/plain": [
       "{9942033: 40,\n",
       " 9941003: 21,\n",
       " 9950003: 11,\n",
       " 9942103: 24,\n",
       " 9940003: 69,\n",
       " 14122: 5,\n",
       " 9942003: 70,\n",
       " 9940103: 55,\n",
       " 9940011: 26,\n",
       " 9940023: 11,\n",
       " 9940005: 20,\n",
       " 9941103: 6,\n",
       " 4124: 2,\n",
       " 9950011: 5,\n",
       " 9951203: 6}"
      ]
     },
     "execution_count": 12,
     "metadata": {},
     "output_type": "execute_result"
    }
   ],
   "source": [
    "unknown_PIDs = dict()\n",
    "\n",
    "for even, index, status, pileup, PID in weird_particles:\n",
    "    unknown_PIDs[PID] = unknown_PIDs.get(PID, 0) + 1\n",
    "\n",
    "unknown_PIDs"
   ]
  },
  {
   "cell_type": "markdown",
   "metadata": {},
   "source": [
    "- cant find any of these PIDs in https://pdg.lbl.gov/2007/reviews/montecarlorpp.pdf\n",
    "- maybe outdated? idk"
   ]
  },
  {
   "cell_type": "code",
   "execution_count": 30,
   "metadata": {},
   "outputs": [],
   "source": [
    "sorted_keys = []\n",
    "\n",
    "for key in unknown_PIDs.keys():\n",
    "    sorted_keys.append((key, unknown_PIDs[key]))\n",
    "\n",
    "sorted_keys = sorted(sorted_keys, key = lambda x: x[0])\n",
    "sorted_keys = list(map(lambda x: (str(x[0]), x[1]), sorted_keys))"
   ]
  },
  {
   "cell_type": "code",
   "execution_count": 34,
   "metadata": {},
   "outputs": [
    {
     "data": {
      "image/png": "[encoded data removed]",
      "text/plain": [
       "<Figure size 1600x600 with 1 Axes>"
      ]
     },
     "metadata": {},
     "output_type": "display_data"
    }
   ],
   "source": [
    "# Extracting keys and values\n",
    "categories = list(map(lambda x: x[0], sorted_keys))\n",
    "values = list(map(lambda x: x[1], sorted_keys))\n",
    "\n",
    "# Creating the histogram\n",
    "plt.figure(figsize=(16, 6))\n",
    "plt.bar(categories, values, color='skyblue')\n",
    "plt.xlabel('PID')\n",
    "plt.ylabel('Counts')\n",
    "plt.title('Unknown PID histogram')\n",
    "plt.show()"
   ]
  },
  {
   "cell_type": "markdown",
   "metadata": {},
   "source": [
    "# Check pileup"
   ]
  },
  {
   "cell_type": "code",
   "execution_count": 19,
   "metadata": {},
   "outputs": [],
   "source": [
    "pileup_particles = []\n",
    "\n",
    "for event in range(0, 50000):\n",
    "    for index, partice_IsPU in enumerate(isPU[event]):\n",
    "        if partice_IsPU != 0:\n",
    "            pileup_particles.append(tuple([event, index, isPU[event][index]]))"
   ]
  },
  {
   "cell_type": "code",
   "execution_count": 20,
   "metadata": {},
   "outputs": [
    {
     "data": {
      "text/plain": [
       "0"
      ]
     },
     "execution_count": 20,
     "metadata": {},
     "output_type": "execute_result"
    }
   ],
   "source": [
    "len(pileup_particles)"
   ]
  },
  {
   "cell_type": "markdown",
   "metadata": {},
   "source": [
    "- No pileup particles in this dataset....?"
   ]
  },
  {
   "cell_type": "markdown",
   "metadata": {},
   "source": [
    "# checking statuses"
   ]
  },
  {
   "cell_type": "code",
   "execution_count": 14,
   "metadata": {},
   "outputs": [
    {
     "data": {
      "text/plain": [
       "{11: 50000,\n",
       " 4: 100000,\n",
       " 21: 100000,\n",
       " 23: 100000,\n",
       " 31: 814026,\n",
       " 33: 814026,\n",
       " 42: 1047502,\n",
       " 41: 1047502,\n",
       " 44: 5033899,\n",
       " 43: 1047502,\n",
       " 51: 7793726,\n",
       " 52: 3391377,\n",
       " 53: 505486,\n",
       " 61: 914026,\n",
       " 62: 5855080,\n",
       " 63: 270868,\n",
       " 74: 6445,\n",
       " 73: 1485639,\n",
       " 71: 4532693,\n",
       " 1: 21205825,\n",
       " 2: 10842805,\n",
       " 72: 82315,\n",
       " 91: 147}"
      ]
     },
     "execution_count": 14,
     "metadata": {},
     "output_type": "execute_result"
    }
   ],
   "source": [
    "count_statuses = dict()\n",
    "\n",
    "for event in range(0, 50000):\n",
    "    for index, status in enumerate(statuses[event]):\n",
    "        count_statuses[status] = count_statuses.get(status, 0) + 1\n",
    "\n",
    "count_statuses"
   ]
  },
  {
   "cell_type": "markdown",
   "metadata": {},
   "source": [
    "- idk what these mean but sure?"
   ]
  },
  {
   "cell_type": "code",
   "execution_count": 26,
   "metadata": {},
   "outputs": [],
   "source": [
    "sorted_keys = []\n",
    "\n",
    "for key in count_statuses.keys():\n",
    "    sorted_keys.append((key, count_statuses[key]))\n",
    "\n",
    "sorted_keys = sorted(sorted_keys, key = lambda x: x[0])\n",
    "sorted_keys = list(map(lambda x: (str(x[0]), x[1]), sorted_keys))"
   ]
  },
  {
   "cell_type": "code",
   "execution_count": 29,
   "metadata": {},
   "outputs": [
    {
     "data": {
      "image/png": "[encoded data removed]",
      "text/plain": [
       "<Figure size 1000x600 with 1 Axes>"
      ]
     },
     "metadata": {},
     "output_type": "display_data"
    }
   ],
   "source": [
    "# Extracting keys and values\n",
    "categories = list(map(lambda x: x[0], sorted_keys))\n",
    "values = list(map(lambda x: x[1], sorted_keys))\n",
    "\n",
    "# Creating the histogram\n",
    "plt.figure(figsize=(10, 6))\n",
    "plt.bar(categories, values, color='skyblue')\n",
    "plt.xlabel('Status #')\n",
    "plt.ylabel('Counts')\n",
    "plt.title('Histogram of Status Counts')\n",
    "plt.show()"
   ]
  },
  {
   "cell_type": "markdown",
   "metadata": {},
   "source": [
    "# Jets"
   ]
  },
  {
   "cell_type": "code",
   "execution_count": 37,
   "metadata": {},
   "outputs": [
    {
     "name": "stdout",
     "output_type": "stream",
     "text": [
      "45642\n"
     ]
    }
   ],
   "source": [
    "total = 0\n",
    "for jet in jets['Jet.fUniqueID'].array(library='np'):\n",
    "    total += len(jet)\n",
    "print(total)\n"
   ]
  },
  {
   "cell_type": "code",
   "execution_count": 42,
   "metadata": {},
   "outputs": [],
   "source": [
    "jets_by_event = jets['Jet.Particles'].array(library='pd')\n",
    "flavors = jets['Jet.Flavor'].array()\n",
    "particles_PID_by_event = particles['Particle.PID'].array(library='pd')\n",
    "\n",
    "for event in range(0, 20):\n",
    "    all_jets = jets_by_event[event]\n",
    "    particle_PID = particles_PID_by_event[event]\n",
    "    flavor = flavors[event]\n",
    "    \n",
    "    print(f'Event #{event}')\n",
    "    if len(all_jets) > 0:\n",
    "        num = 1\n",
    "        for jet, flavor in zip(all_jets, flavor):\n",
    "            print(f'\\tJet #{num}')\n",
    "            constituents = jet['refs']\n",
    "            print(f'Jet Particles: {constituents}')\n",
    "            print(f'\\tJet Flavor: {flavor}')\n",
    "            print('\\tParticles in Jet:')\n",
    "            for particle in constituents:\n",
    "                print('\\t\\t', get_particle(particle_PID[particle-1]))\n",
    "\n",
    "            num += 1"
   ]
  },
  {
   "cell_type": "markdown",
   "metadata": {},
   "source": [
    "# Count strave vs down jets"
   ]
  },
  {
   "cell_type": "code",
   "execution_count": 35,
   "metadata": {},
   "outputs": [
    {
     "data": {
      "text/plain": [
       "{3: 30283, 0: 11351, 21: 2321, 1: 409, 2: 527, 4: 664, 5: 87}"
      ]
     },
     "execution_count": 35,
     "metadata": {},
     "output_type": "execute_result"
    }
   ],
   "source": [
    "flavors = jets['Jet.Flavor'].array()\n",
    "flavor_counts = dict()\n",
    "\n",
    "for event in range(0, 50000):\n",
    "    for flavor in flavors[event]:\n",
    "        flavor_counts[flavor] = flavor_counts.get(flavor, 0) + 1\n",
    "    \n",
    "flavor_counts"
   ]
  },
  {
   "cell_type": "code",
   "execution_count": 37,
   "metadata": {},
   "outputs": [],
   "source": [
    "sorted_keys = []\n",
    "\n",
    "for key in flavor_counts.keys():\n",
    "    sorted_keys.append((key, flavor_counts[key]))\n",
    "\n",
    "sorted_keys = sorted(sorted_keys, key = lambda x: x[0])\n",
    "sorted_keys = list(map(lambda x: (str(x[0]), x[1]), sorted_keys))"
   ]
  },
  {
   "cell_type": "code",
   "execution_count": 40,
   "metadata": {},
   "outputs": [
    {
     "data": {
      "image/png": "[encoded data removed]",
      "text/plain": [
       "<Figure size 1000x600 with 1 Axes>"
      ]
     },
     "metadata": {},
     "output_type": "display_data"
    }
   ],
   "source": [
    "# Extracting keys and values\n",
    "categories = list(map(lambda x: x[0], sorted_keys))\n",
    "values = list(map(lambda x: x[1], sorted_keys))\n",
    "\n",
    "# Creating the histogram\n",
    "plt.figure(figsize=(10, 6))\n",
    "plt.bar(categories, values, color='skyblue')\n",
    "plt.xlabel('Flavor')\n",
    "plt.ylabel('Counts')\n",
    "plt.title('Jet Flavor Hist')\n",
    "plt.show()"
   ]
  },
  {
   "cell_type": "markdown",
   "metadata": {},
   "source": [
    "# Check the lifetime of all gluons\n",
    "- expected lifetime is 0"
   ]
  },
  {
   "cell_type": "code",
   "execution_count": 42,
   "metadata": {},
   "outputs": [],
   "source": [
    "particle_lifetimes = particles[\"Particle.T\"].array()\n",
    "particles_PIDs = particles[\"Particle.PID\"].array()\n",
    "\n",
    "isGluon = lambda PID: PID == 21"
   ]
  },
  {
   "cell_type": "code",
   "execution_count": 44,
   "metadata": {},
   "outputs": [],
   "source": [
    "from tqdm import tqdm"
   ]
  },
  {
   "cell_type": "code",
   "execution_count": 51,
   "metadata": {},
   "outputs": [
    {
     "name": "stderr",
     "output_type": "stream",
     "text": [
      "Processing: 100%|██████████| 50000/50000 [04:54<00:00, 169.76it/s]\n"
     ]
    }
   ],
   "source": [
    "gluon_dict = dict()\n",
    "\n",
    "for event in tqdm(range(50000), desc=\"Processing\"):\n",
    "    gluon_dict[event] = []\n",
    "    for index, PID in enumerate(particles_PIDs[event]):\n",
    "        if PID == 21:\n",
    "            gluon_dict[event].append((event, index))\n"
   ]
  },
  {
   "cell_type": "code",
   "execution_count": 57,
   "metadata": {},
   "outputs": [
    {
     "name": "stderr",
     "output_type": "stream",
     "text": [
      "Processing: 100%|██████████| 50000/50000 [19:23<00:00, 42.98it/s] \n"
     ]
    },
    {
     "data": {
      "text/plain": [
       "{0.0: 28471841}"
      ]
     },
     "execution_count": 57,
     "metadata": {},
     "output_type": "execute_result"
    }
   ],
   "source": [
    "gluon_lifetime_counts = dict()\n",
    "\n",
    "\n",
    "for event in tqdm(range(50000), desc=\"Processing\"):\n",
    "      gluons_in_event = gluon_dict.get(event, None)\n",
    "\n",
    "      if gluons_in_event:\n",
    "            lifetimes_in_event = particle_lifetimes[event]\n",
    "\n",
    "            for index in gluons_in_event:\n",
    "                  lifetime = lifetimes_in_event[index]\n",
    "                  gluon_lifetime_counts[lifetime] = gluon_lifetime_counts.get(lifetime, 0) + 1\n",
    "                  \n",
    "                              \n",
    "gluon_lifetime_counts"
   ]
  },
  {
   "cell_type": "markdown",
   "metadata": {},
   "source": [
    "- awesome all have 0 time"
   ]
  },
  {
   "cell_type": "markdown",
   "metadata": {},
   "source": [
    "# Check Tau particle lifetimes"
   ]
  },
  {
   "cell_type": "code",
   "execution_count": 58,
   "metadata": {},
   "outputs": [
    {
     "name": "stderr",
     "output_type": "stream",
     "text": [
      "Processing: 100%|██████████| 50000/50000 [05:45<00:00, 144.90it/s]\n"
     ]
    }
   ],
   "source": [
    "tau_dict = dict()\n",
    "\n",
    "for event in tqdm(range(50000), desc=\"Processing\"):\n",
    "    tau_dict[event] = []\n",
    "    for index, PID in enumerate(particles_PIDs[event]):\n",
    "        if PID == 15: # Tau particle, not counting anti-taus\n",
    "            tau_dict[event].append(index)"
   ]
  },
  {
   "cell_type": "code",
   "execution_count": 81,
   "metadata": {},
   "outputs": [
    {
     "name": "stderr",
     "output_type": "stream",
     "text": [
      "Processing: 100%|██████████| 50000/50000 [00:00<00:00, 735342.26it/s]\n"
     ]
    },
    {
     "data": {
      "text/plain": [
       "237"
      ]
     },
     "execution_count": 81,
     "metadata": {},
     "output_type": "execute_result"
    }
   ],
   "source": [
    "tau_lifetime_counts = dict()\n",
    "total = 0\n",
    "\n",
    "for event in tqdm(range(50000), desc=\"Processing\"):\n",
    "      taus_in_event = tau_dict.get(event, None)\n",
    "\n",
    "      if taus_in_event:\n",
    "            lifetimes_in_event = particle_lifetimes[event]\n",
    "\n",
    "            for index in taus_in_event:\n",
    "                  total += 1\n",
    "                  lifetime = lifetimes_in_event[index]\n",
    "                  tau_lifetime_counts[lifetime] = tau_lifetime_counts.get(lifetime, 0) + 1\n",
    "                                            \n",
    "total"
   ]
  },
  {
   "cell_type": "code",
   "execution_count": 83,
   "metadata": {},
   "outputs": [
    {
     "data": {
      "image/png": "[encoded data removed]",
      "text/plain": [
       "<Figure size 1000x600 with 1 Axes>"
      ]
     },
     "metadata": {},
     "output_type": "display_data"
    }
   ],
   "source": [
    "sorted_keys = []\n",
    "\n",
    "for key in tau_lifetime_counts.keys():\n",
    "    sorted_keys.append((key, tau_lifetime_counts[key]))\n",
    "\n",
    "sorted_keys = sorted(sorted_keys, key = lambda x: x[0])\n",
    "sorted_keys = list(map(lambda x: (-100, x[1]) if x[0] == 0 else (np.log(x[0]), x[1]), sorted_keys))\n",
    "\n",
    "# Extracting keys and values\n",
    "categories = list(map(lambda x: x[0], sorted_keys))\n",
    "values = list(map(lambda x: x[1], sorted_keys))\n",
    "\n",
    "# Creating the histogram\n",
    "plt.figure(figsize=(10, 6))\n",
    "plt.bar(categories, values, color='skyblue')\n",
    "plt.xlabel('log Lifetime (-100 represents lifetime of 0.0')\n",
    "plt.ylabel('Counts')\n",
    "plt.title('Tau Particle Lifetime Hist (237 total Tau particles)')\n",
    "plt.show()"
   ]
  },
  {
   "cell_type": "markdown",
   "metadata": {},
   "source": [
    "# D0 and DZ vs X, Y, Z particle components"
   ]
  },
  {
   "cell_type": "code",
   "execution_count": 84,
   "metadata": {},
   "outputs": [
    {
     "data": {
      "text/plain": [
       "['Particle.fUniqueID',\n",
       " 'Particle.fBits',\n",
       " 'Particle.PID',\n",
       " 'Particle.Status',\n",
       " 'Particle.IsPU',\n",
       " 'Particle.M1',\n",
       " 'Particle.M2',\n",
       " 'Particle.D1',\n",
       " 'Particle.D2',\n",
       " 'Particle.Charge',\n",
       " 'Particle.Mass',\n",
       " 'Particle.E',\n",
       " 'Particle.Px',\n",
       " 'Particle.Py',\n",
       " 'Particle.Pz',\n",
       " 'Particle.P',\n",
       " 'Particle.PT',\n",
       " 'Particle.Eta',\n",
       " 'Particle.Phi',\n",
       " 'Particle.Rapidity',\n",
       " 'Particle.CtgTheta',\n",
       " 'Particle.D0',\n",
       " 'Particle.DZ',\n",
       " 'Particle.T',\n",
       " 'Particle.X',\n",
       " 'Particle.Y',\n",
       " 'Particle.Z']"
      ]
     },
     "execution_count": 84,
     "metadata": {},
     "output_type": "execute_result"
    }
   ],
   "source": [
    "particles.keys()"
   ]
  },
  {
   "cell_type": "code",
   "execution_count": 98,
   "metadata": {},
   "outputs": [],
   "source": [
    "d0_array = particles['Particle.D0'].array(library='np')\n",
    "dz_array = particles['Particle.DZ'].array(library='np')\n",
    "\n",
    "x_array = particles['Particle.X'].array(library='np')\n",
    "y_array = particles['Particle.Y'].array(library='np')\n",
    "z_array = particles['Particle.Z'].array(library='np')\n",
    "\n",
    "statuses = particles['Particle.Status'].array(library='np')"
   ]
  },
  {
   "cell_type": "code",
   "execution_count": 90,
   "metadata": {},
   "outputs": [],
   "source": [
    "import math\n",
    "def compute_radial_distance(d0, dz):\n",
    "    \"\"\"\n",
    "    Compute the radial distance from the origin given D0 and DZ.\n",
    "\n",
    "    Parameters:\n",
    "    d0 (float): Transverse distance from the origin.\n",
    "    dz (float): Longitudinal distance from the origin.\n",
    "\n",
    "    Returns:\n",
    "    float: Radial distance from the origin.\n",
    "    \"\"\"\n",
    "    radial_distance = math.sqrt(d0**2 + dz**2)\n",
    "    return radial_distance\n",
    "\n",
    "def compute_radial_distance_xyz(x, y, z):\n",
    "    \"\"\"\n",
    "    Compute the radial distance from the origin given X, Y, and Z coordinates.\n",
    "\n",
    "    Parameters:\n",
    "    x (float): X coordinate.\n",
    "    y (float): Y coordinate.\n",
    "    z (float): Z coordinate.\n",
    "\n",
    "    Returns:\n",
    "    float: Radial distance from the origin.\n",
    "    \"\"\"\n",
    "    radial_distance = math.sqrt(x**2 + y**2 + z**2)\n",
    "    return radial_distance"
   ]
  },
  {
   "cell_type": "code",
   "execution_count": 117,
   "metadata": {},
   "outputs": [
    {
     "name": "stderr",
     "output_type": "stream",
     "text": [
      "Processing: 100%|██████████| 50000/50000 [22:17<00:00, 37.39it/s] \n"
     ]
    },
    {
     "data": {
      "text/plain": [
       "{}"
      ]
     },
     "execution_count": 117,
     "metadata": {},
     "output_type": "execute_result"
    }
   ],
   "source": [
    "epsilon = 1e-10\n",
    "status_of_differing_particles_count = dict()\n",
    "\n",
    "negative_count = dict()\n",
    "positive_count = dict()\n",
    "\n",
    "for event in tqdm(range(50000), desc=\"Processing\"):\n",
    "    for index, (d0, dz, x, y, z, status) in enumerate(zip(d0_array[event], dz_array[event], x_array[event], y_array[event], z_array[event], statuses[event])):\n",
    "\n",
    "        d_r = compute_radial_distance(d0, dz)\n",
    "        d_xyz = compute_radial_distance_xyz(x, y, z)\n",
    "        diff = d_r - d_xyz\n",
    "\n",
    "        if abs(diff) > epsilon:\n",
    "\n",
    "            if diff > 0: # d_r bigger than d_xyz \n",
    "                positive_count[status] = positive_count.get(status, 0) + 1\n",
    "                \n",
    "            else: # d_xyz bigger\n",
    "                negative_count[status] = negative_count.get(status, 0) + 1\n",
    "\n",
    "            status_of_differing_particles_count[status] = status_of_differing_particles_count.get(status, 0) + 1"
   ]
  },
  {
   "cell_type": "code",
   "execution_count": 119,
   "metadata": {},
   "outputs": [
    {
     "data": {
      "text/plain": [
       "({1: 3149111, 2: 576631}, {1: 3048557, 2: 576631}, {1: 100554})"
      ]
     },
     "execution_count": 119,
     "metadata": {},
     "output_type": "execute_result"
    }
   ],
   "source": [
    "status_of_differing_particles_count, negative_count, positive_count"
   ]
  },
  {
   "cell_type": "markdown",
   "metadata": {},
   "source": [
    "- differences between $r_0$ calculations for D0, DZ vs X, Y, Z calculations happen on status 1/2 particles\n",
    "- d_r bigger only in status 1 particles \n",
    "- d_xyz bigger almost 6x as much for status 1 vs. status 2"
   ]
  },
  {
   "cell_type": "code",
   "execution_count": 125,
   "metadata": {},
   "outputs": [
    {
     "data": {
      "image/png": "[encoded data removed]",
      "text/plain": [
       "<Figure size 1000x600 with 1 Axes>"
      ]
     },
     "metadata": {},
     "output_type": "display_data"
    }
   ],
   "source": [
    "# Extracting keys and values\n",
    "categories = list(map(lambda x: str(x), negative_count.keys()))\n",
    "values = status_of_differing_particles_count.values()\n",
    "\n",
    "# Creating the histogram\n",
    "plt.figure(figsize=(10, 6))\n",
    "plt.bar(categories, values, color='skyblue')\n",
    "plt.xlabel('Particle Status')\n",
    "plt.ylabel('Counts')\n",
    "plt.title('Differences between r_0 calculations for D0, DZ vs X, Y, Z calculations happen on status 1/2 particles')\n",
    "plt.show()"
   ]
  },
  {
   "cell_type": "code",
   "execution_count": 124,
   "metadata": {},
   "outputs": [
    {
     "data": {
      "image/png": "[encoded data removed]",
      "text/plain": [
       "<Figure size 1000x600 with 1 Axes>"
      ]
     },
     "metadata": {},
     "output_type": "display_data"
    }
   ],
   "source": [
    "# Extracting keys and values\n",
    "categories = list(map(lambda x: str(x), negative_count.keys()))\n",
    "values = negative_count.values()\n",
    "\n",
    "# Creating the histogram\n",
    "plt.figure(figsize=(10, 6))\n",
    "plt.bar(categories, values, color='skyblue')\n",
    "plt.xlabel('Particle Status')\n",
    "plt.ylabel('Counts')\n",
    "plt.title('Status of particles when d_xyz is bigger than d_r')\n",
    "plt.show()"
   ]
  },
  {
   "cell_type": "code",
   "execution_count": 127,
   "metadata": {},
   "outputs": [
    {
     "data": {
      "image/png": "[encoded data removed]",
      "text/plain": [
       "<Figure size 1000x600 with 1 Axes>"
      ]
     },
     "metadata": {},
     "output_type": "display_data"
    }
   ],
   "source": [
    "# Extracting keys and values\n",
    "categories = list(map(lambda x: str(x), positive_count.keys()))\n",
    "values = positive_count.values()\n",
    "\n",
    "# Creating the histogram\n",
    "plt.figure(figsize=(10, 6))\n",
    "plt.bar(categories, values, color='skyblue')\n",
    "plt.xlabel('Particle Status')\n",
    "plt.ylabel('Counts')\n",
    "plt.title('Status of particles when d_r is bigger than d_xyz')\n",
    "plt.show()"
   ]
  }
 ],
 "metadata": {
  "kernelspec": {
   "display_name": "base",
   "language": "python",
   "name": "python3"
  },
  "language_info": {
   "codemirror_mode": {
    "name": "ipython",
    "version": 3
   },
   "file_extension": ".py",
   "mimetype": "text/x-python",
   "name": "python",
   "nbconvert_exporter": "python",
   "pygments_lexer": "ipython3",
   "version": "3.9.12"
  }
 },
 "nbformat": 4,
 "nbformat_minor": 2
}
